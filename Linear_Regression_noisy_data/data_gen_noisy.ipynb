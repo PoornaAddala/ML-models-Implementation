{
 "cells": [
  {
   "cell_type": "markdown",
   "id": "66d01c8a-f0cd-42af-aff9-8ba0bbd3c47e",
   "metadata": {
    "slideshow": {
     "slide_type": "slide"
    },
    "tags": []
   },
   "source": [
    "# Predictive Modeling Example\n",
    "\n",
    "In this notebook we will create synthetic data to be used to be used by another notebook where we will build a predictive model."
   ]
  },
  {
   "cell_type": "markdown",
   "id": "049ea964-ba9d-46aa-af88-d13550f27638",
   "metadata": {
    "slideshow": {
     "slide_type": "slide"
    },
    "tags": []
   },
   "source": [
    "## Step 1: Import a number of libraries that we expect to use"
   ]
  },
  {
   "cell_type": "code",
   "execution_count": 25,
   "id": "cca96620-674f-43be-9633-3546127c263b",
   "metadata": {
    "slideshow": {
     "slide_type": "fragment"
    },
    "tags": []
   },
   "outputs": [],
   "source": [
    "import matplotlib.pyplot as plt\n",
    "import numpy as np\n",
    "import pandas as pd\n",
    "\n",
    "np.random.seed(1) # set this to ensure the results are repeatable. "
   ]
  },
  {
   "cell_type": "markdown",
   "id": "bcc3ce3b-c9bd-4631-a2ae-c02ebcd2879b",
   "metadata": {
    "slideshow": {
     "slide_type": "subslide"
    },
    "tags": []
   },
   "source": [
    "## Step 2:  Define a hidden linear relationship/model\n",
    "\n",
    "First let's define our relationship. This is synthetic data that we create to assist in developing our understanding of modeling. Normally, this relationshhip is hidden from us, and our job is to identify the best model we can."
   ]
  },
  {
   "cell_type": "code",
   "execution_count": 26,
   "id": "73a337be-a2a5-46ab-9cfe-e92239ccc80f",
   "metadata": {
    "slideshow": {
     "slide_type": "fragment"
    },
    "tags": []
   },
   "outputs": [],
   "source": [
    "# create a 'hidden' simple linear model\n",
    "b1 = 15  # slope for x\n",
    "b0 = 20  # y intercept"
   ]
  },
  {
   "cell_type": "markdown",
   "id": "109c2612-b01f-4f95-b2f1-8058ef587cb9",
   "metadata": {},
   "source": [
    "## Step 3: Create input (X) and output data (y) using the model"
   ]
  },
  {
   "cell_type": "markdown",
   "id": "0a1f9324-21c7-4274-be39-739be7a23ef0",
   "metadata": {},
   "source": [
    "Let's set the number of observations that we will synthesize. Storing this in a variable makes it easy to change later."
   ]
  },
  {
   "cell_type": "code",
   "execution_count": 27,
   "id": "3297e902-0eb7-4370-a9d6-315105f13be1",
   "metadata": {},
   "outputs": [],
   "source": [
    "sample_size = 1000"
   ]
  },
  {
   "cell_type": "markdown",
   "id": "cff2bfd5-dc57-4e16-91ba-82ebe8173eb8",
   "metadata": {},
   "source": [
    "We need to create a set of input (X) values. Input values are also known as independent values, therefore, we can choose any values for our input (within reason). For instance, we could simply create a linear sequence, as shown below:"
   ]
  },
  {
   "cell_type": "code",
   "execution_count": 28,
   "id": "3fb8b3a7-bb5c-4b57-984a-f8078fe820c1",
   "metadata": {},
   "outputs": [],
   "source": [
    "# create sample_size number of x values between 0 and 100\n",
    "X = np.linspace(0, 100, sample_size)"
   ]
  },
  {
   "cell_type": "markdown",
   "id": "6a9464a8-d5c8-40f6-aba5-dacdaedde139",
   "metadata": {},
   "source": [
    "OR, to better simulate 'real world' data, let's select randomly from a normal(aka Guassian) distribution. This will give us a set of values that are centered around a mean value, with a standard deviation that we can control. This is a more realistic representation of data that we might encounter in the real world."
   ]
  },
  {
   "cell_type": "code",
   "execution_count": 29,
   "id": "8cfdff81-d71e-422d-ad78-676716656a67",
   "metadata": {
    "slideshow": {
     "slide_type": "fragment"
    },
    "tags": []
   },
   "outputs": [],
   "source": [
    "x_mean = 0\n",
    "x_stdev = 10\n",
    "X = np.round(np.random.normal(x_mean, x_stdev, sample_size),2)"
   ]
  },
  {
   "cell_type": "markdown",
   "id": "ac088d37-d2bf-4cb9-82dd-52498c789381",
   "metadata": {},
   "source": [
    "Once we have the X values (input), we can generate y values using our 'hidden' model. "
   ]
  },
  {
   "cell_type": "code",
   "execution_count": 30,
   "id": "d19db905-c954-4fd8-8d7e-0c0fdec12170",
   "metadata": {},
   "outputs": [],
   "source": [
    "y = b0 + b1 * X "
   ]
  },
  {
   "cell_type": "markdown",
   "id": "712473cb-9c8e-44da-8f5f-2fd011c51685",
   "metadata": {},
   "source": [
    "But, this is rather boring data to analyze, because the 'hidden' model is not really hidden at all. Let's visualize this data to see what it looks like."
   ]
  },
  {
   "cell_type": "code",
   "execution_count": 31,
   "id": "44bf74cd-a678-4534-b84a-dd568bf19a86",
   "metadata": {},
   "outputs": [
    {
     "data": {
      "image/png": "[encoded data removed]",
      "text/plain": [
       "<Figure size 640x480 with 1 Axes>"
      ]
     },
     "metadata": {},
     "output_type": "display_data"
    }
   ],
   "source": [
    "fig = plt.figure()\n",
    "ax = fig.add_subplot()\n",
    "\n",
    "ax.scatter(X, y, color='red')\n",
    "\n",
    "ax.set_xlabel('input')\n",
    "ax.set_ylabel('target')\n",
    "plt.tight_layout()\n",
    "plt.show()"
   ]
  },
  {
   "cell_type": "markdown",
   "id": "c5acb5ce",
   "metadata": {},
   "source": [
    "A perfectly linear relationship between X and y is not realistic. If you find such things in your data, it's most likely a mistake - for instance, predicting tax from total price, or visa versa. Such relationships are determined - they are not predicted."
   ]
  },
  {
   "cell_type": "markdown",
   "id": "b6b39e70-09c6-48e9-bd2d-84336dbcee85",
   "metadata": {},
   "source": [
    "## Step 4: Add some random noise to 'hide' the model"
   ]
  },
  {
   "cell_type": "markdown",
   "id": "612a9e2e-63ed-407d-bac1-82a0aaebf348",
   "metadata": {},
   "source": [
    "Now, since we are similating 'read world data', let's obscure the model by adding noise to the data by adding errors that are randomly selected from a norma distribution. This will make the data look more realistic."
   ]
  },
  {
   "cell_type": "code",
   "execution_count": 32,
   "id": "e2b10c09",
   "metadata": {},
   "outputs": [],
   "source": [
    "e_mean = 0      # this must be zero when adding noise; do you know why?\n",
    "e_stdev = 100\n",
    "e = np.round(np.random.normal(e_mean, e_stdev, sample_size), 2) # round to two decimal places\n",
    "y = y + e\n"
   ]
  },
  {
   "cell_type": "markdown",
   "id": "458c5879",
   "metadata": {},
   "source": [
    "## Step 4 (a) : Add some more random noise to the model"
   ]
  },
  {
   "cell_type": "code",
   "execution_count": 33,
   "id": "1176e7fd",
   "metadata": {},
   "outputs": [],
   "source": [
    "e_mean = 0      \n",
    "e_stdev = 200\n",
    "e = np.round(np.random.normal(e_mean, e_stdev, sample_size), 2) # round to two decimal places\n",
    "y = y + e\n"
   ]
  },
  {
   "cell_type": "markdown",
   "id": "b2d94f93-a2bb-4ccd-b9a5-daec087f8ea7",
   "metadata": {},
   "source": [
    "## Step 5: Explore the resulting synthesized data"
   ]
  },
  {
   "cell_type": "markdown",
   "id": "82e031c0-87a9-4015-938a-0bf1eb51898b",
   "metadata": {
    "slideshow": {
     "slide_type": "fragment"
    },
    "tags": []
   },
   "source": [
    "Now, let's look at a scatter plot of both the X and y data with the noise added in. We can see that the relationship is still linear, but it is not as obvious as before."
   ]
  },
  {
   "cell_type": "code",
   "execution_count": 34,
   "id": "c792dab9-889d-4eca-9d7f-5d10df52da3c",
   "metadata": {
    "slideshow": {
     "slide_type": "subslide"
    },
    "tags": []
   },
   "outputs": [
    {
     "data": {
      "image/png": "[encoded data removed]",
      "text/plain": [
       "<Figure size 640x480 with 1 Axes>"
      ]
     },
     "metadata": {},
     "output_type": "display_data"
    }
   ],
   "source": [
    "fig = plt.figure()\n",
    "ax = fig.add_subplot()\n",
    "\n",
    "ax.scatter(X, y, color='red')\n",
    "\n",
    "ax.set_xlabel('input')\n",
    "ax.set_ylabel('target')\n",
    "plt.tight_layout()\n",
    "plt.show()"
   ]
  },
  {
   "cell_type": "markdown",
   "id": "b533d757-2f20-4893-b899-f945216ad4ee",
   "metadata": {},
   "source": [
    "### Step 6: Create a pandas data frame from the data"
   ]
  },
  {
   "cell_type": "markdown",
   "id": "e103183b-7070-4bdf-9259-1332b67cfd8d",
   "metadata": {},
   "source": [
    "Since our goal is to generate data that we can analyze with another notebook (for practice), let's save this data to a csv. \n",
    "\n",
    "First we will create a dataframe with the data we just similated. "
   ]
  },
  {
   "cell_type": "code",
   "execution_count": 35,
   "id": "96ccd040-cf1d-4773-a801-30bcb5348e05",
   "metadata": {},
   "outputs": [
    {
     "data": {
      "text/html": [
       "<div>\n",
       "<style scoped>\n",
       "    .dataframe tbody tr th:only-of-type {\n",
       "        vertical-align: middle;\n",
       "    }\n",
       "\n",
       "    .dataframe tbody tr th {\n",
       "        vertical-align: top;\n",
       "    }\n",
       "\n",
       "    .dataframe thead th {\n",
       "        text-align: right;\n",
       "    }\n",
       "</style>\n",
       "<table border=\"1\" class=\"dataframe\">\n",
       "  <thead>\n",
       "    <tr style=\"text-align: right;\">\n",
       "      <th></th>\n",
       "      <th>input</th>\n",
       "      <th>target</th>\n",
       "    </tr>\n",
       "  </thead>\n",
       "  <tbody>\n",
       "    <tr>\n",
       "      <th>0</th>\n",
       "      <td>16.24</td>\n",
       "      <td>346.18</td>\n",
       "    </tr>\n",
       "    <tr>\n",
       "      <th>1</th>\n",
       "      <td>-6.12</td>\n",
       "      <td>-267.29</td>\n",
       "    </tr>\n",
       "    <tr>\n",
       "      <th>2</th>\n",
       "      <td>-5.28</td>\n",
       "      <td>-98.02</td>\n",
       "    </tr>\n",
       "  </tbody>\n",
       "</table>\n",
       "</div>"
      ],
      "text/plain": [
       "   input  target\n",
       "0  16.24  346.18\n",
       "1  -6.12 -267.29\n",
       "2  -5.28  -98.02"
      ]
     },
     "execution_count": 35,
     "metadata": {},
     "output_type": "execute_result"
    }
   ],
   "source": [
    "df = pd.DataFrame({'input': X, 'target': y})\n",
    "df.head(3)"
   ]
  },
  {
   "cell_type": "markdown",
   "id": "8854ec86-6d59-43ec-a31d-8b75e4c87abe",
   "metadata": {},
   "source": [
    "## Step 7: Save the data frame contents to a csv"
   ]
  },
  {
   "cell_type": "markdown",
   "id": "b57643b6-1af2-4e03-905d-0c4dfb87534a",
   "metadata": {},
   "source": [
    "Lastly, let's save the data we created to a csv file. This saved data will be used to practice finding hidden relationships in data."
   ]
  },
  {
   "cell_type": "code",
   "execution_count": 36,
   "id": "bedb0d18-e61b-49e3-93ac-c0756abae6f7",
   "metadata": {
    "tags": []
   },
   "outputs": [],
   "source": [
    "df.to_csv(r'/Users/poorna/Documents/USF/DM-ISM6136/Week-2/_W02/dataset_noisy_less.csv', index=False)"
   ]
  },
  {
   "cell_type": "markdown",
   "id": "ff454296",
   "metadata": {},
   "source": [
    "## Summary\n",
    "\n",
    "In this notebook, we created a simple linear model with a single input variable and a single output variable. We then added some random noise to the data to make it more realistic. Lastly, we saved the data to a csv file for use in another notebook.\n",
    "\n",
    "We will now use this data in another notebook to practice finding the hidden relationship between the input and output variables."
   ]
  }
 ],
 "metadata": {
  "kernelspec": {
   "display_name": "Python 3 (ipykernel)",
   "language": "python",
   "name": "python3"
  },
  "language_info": {
   "codemirror_mode": {
    "name": "ipython",
    "version": 3
   },
   "file_extension": ".py",
   "mimetype": "text/x-python",
   "name": "python",
   "nbconvert_exporter": "python",
   "pygments_lexer": "ipython3",
   "version": "3.11.4"
  },
  "vscode": {
   "interpreter": {
    "hash": "b056086e24cb5602cbcb82122035cd3d6ee2ccbf5df29c16e348c108b0f83be3"
   }
  }
 },
 "nbformat": 4,
 "nbformat_minor": 5
}
